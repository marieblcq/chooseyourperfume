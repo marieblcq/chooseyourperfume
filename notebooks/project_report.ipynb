{
 "cells": [
  {
   "cell_type": "markdown",
   "metadata": {},
   "source": [
    "## Welcome to ***Choose Your Perfume*** ! 🌸"
   ]
  },
  {
   "cell_type": "markdown",
   "metadata": {},
   "source": [
    "Welcome to ***Choose Your perfume***🌸, a python🐍 based interface which does more than just giving great perfume recommendations. Behind this sweet scented facade actually lies detailled chemical🧪 and programming🖥️ work, carefully thought through by the creators of this project. "
   ]
  },
  {
   "cell_type": "markdown",
   "metadata": {},
   "source": [
    "The perfume industry is heavily connected to chemistry, between understanding the art of blending scents according to their chemical properties and the ability to synthesis molecules according to growing consumer demand. The exponential development of synthesised molecules started no earlier than the mid 19th century, when the technological advancement, although limited, permitted the synthesis of popular and wildly used scents such as vanillin, coumarin, aliphatic aldehydes and hydroxycitronellal⚗️. Later technological discoveries allowed the synthesis of more complex odors like oakmoss, vetiver and patchouli. Nowadays, our limitations have been significantly decreased and the extent of synthesised aroma is endless, as can be noticed in our ***Choose Your Perfume***🌸 app."
   ]
  },
  {
   "cell_type": "markdown",
   "metadata": {},
   "source": [
    "Although detailling the chemical process behind the synthesis of scents and blending of fragrances is not the goal⚽ of our project, we are able to offer the users of our app a chemical insight on their favoured scents by providing the structures of the chosen molecules, and complementing informations on the latter."
   ]
  },
  {
   "cell_type": "markdown",
   "metadata": {},
   "source": [
    "Going beyond all that is provided in the ***Choose your perfume***🌸 app interface, functions were created within this project to elaborate the understanding of the chemical aspects of scents."
   ]
  },
  {
   "cell_type": "markdown",
   "metadata": {},
   "source": [
    "To fully understand the depth of the chemical🧪 analysis provided with the ***Choose Your Perfume***🌸 project, this Jupyter notebook was created📝!"
   ]
  },
  {
   "cell_type": "markdown",
   "metadata": {},
   "source": [
    "### 1. Initialization"
   ]
  },
  {
   "cell_type": "markdown",
   "metadata": {},
   "source": [
    "**About this notebook**: A Jupyter Notebook is a shareable document that combines computer code, plain descriptive language, data, 3D models, graphs and more. It provides a interactive environment where code can be explained and data can be explored and visualised. This particular Jupyter notebook will walk you through the development of our project, with snippets of code to help you understand the functionning of our app, as well as visual tools to illustrate the explanations."
   ]
  },
  {
   "cell_type": "markdown",
   "metadata": {},
   "source": [
    "**How to use this notebook**: It's not hard! Just navigate through the different cells, read the explanations provided and run the codes. Explore the different results obtained with diverse entries and experiment with the code!"
   ]
  },
  {
   "cell_type": "markdown",
   "metadata": {},
   "source": [
    "The first step is to import all the dependencies and functions which will ensure that the code runs well here in this notebook. All that is needed is to run the following cell!"
   ]
  },
  {
   "cell_type": "code",
   "execution_count": 32,
   "metadata": {},
   "outputs": [],
   "source": [
    "import os\n",
    "import sys\n",
    "from IPython.display import display\n",
    "\n",
    "current_dir = os.getcwd()\n",
    "project_src = os.path.abspath(os.path.join(current_dir, \"..\", \"src\", \"chooseyourperfume\"))\n",
    "if project_src not in sys.path:\n",
    "    sys.path.append(project_src)\n",
    "#current_dir = os.getcwd()\n",
    "#target_dir_relative = os.path.join('..', 'src', 'chooseyourperfume')\n",
    "#target_dir_relative = os.path.join('..', 'data', 'datasets')\n",
    "#target_dir_absolute = os.path.abspath(os.path.join(current_dir, target_dir_relative))\n",
    "#sys.path.append(target_dir_absolute)\n",
    "\n",
    "#from here is chatgpt that suggested but its not necessary\n",
    "#if target_dir_absolute not in sys.path:\n",
    "#    sys.path.append(target_dir_absolute)\n",
    "\n",
    "# Confirm imports work\n",
    "#try:\n",
    "#    from logic_cyp import load_data, ask_preferences, score_perfumes\n",
    "#    from dataset import scent_categories\n",
    "#    print(\"✅ Imports successful!\")\n",
    "#except ImportError as e:\n",
    "#    print(f\"⚠️ Import failed: {e}\")"
   ]
  },
  {
   "cell_type": "markdown",
   "metadata": {},
   "source": [
    "***To clarify*** : let's go over each line of this cell:\n",
    "*import os*: os (operating system) is a standard python module which is essential to import in this notebook. It is necessary for interacting with the operating system, like for example working with the file paths.\n",
    "*import sys*: sys (system) is also a standard python module which is necessary for this jupyter notebook. It allows the manipulation of the python environment like the import path (sys.path).\n",
    "*current_dir*: it simply gets the folder where the script is running (the current working directory).\n",
    "*target_dir_relative*: this line builds a path from the notebook to the target directory, where the main functions will be imported from.\n",
    "    \"...\" → goes back one directory, to where all directories containing functions are situated\n",
    "    \"src\" and \"chooseyourperfume\" → they are simply the directories within which the modules containing the functions are.\n",
    "*target_dir_absolute*: This simply converts the relative path into an absolute one, meaning it rewrites the changed path from the root, to obtain to full path.\n",
    "*sys.path.append*: allows the importation of modules directly from the chooseyourperfume package inside the src folder even if its not in an installed package, this limits problems within the jupyter notebook while running the codes."
   ]
  },
  {
   "cell_type": "markdown",
   "metadata": {},
   "source": [
    "**Let's get started !**"
   ]
  },
  {
   "cell_type": "markdown",
   "metadata": {},
   "source": [
    "### 2. DATASETS"
   ]
  },
  {
   "cell_type": "markdown",
   "metadata": {},
   "source": [
    "**2.1 Purpose**"
   ]
  },
  {
   "cell_type": "markdown",
   "metadata": {},
   "source": [
    "***General note :***\n",
    "Datasets are essential in the computing world. They are units which collect related sets of information and regroups them to allow their manipulation by the computer. They are often presented in a table, with each column representing a different set of information. Although, as mentionned, they regroup different sets of informations, they often come from a single source and are meant for one project."
   ]
  },
  {
   "cell_type": "markdown",
   "metadata": {},
   "source": [
    "***And for the perfume industry? :***\n",
    "The creation of datasets plays a major role in the evolution of computing skills and technology, and the perfume industry benefits a lot from it. Existing datasets play a critical role in this industry. Even though sensory and particularly olfactory processes are still essential, datasets have helped with the modernizing and enhancing of the procedures of perfume creation in several ways. Firstly, regarding perfume formulation, they allow the analysis of ingredient combination because of the understanding of the structures responsible for a certain scent provided in the datasets. Furthermore, these structures help with predicting how a molecule will smell based on its structure, which is significant for synthetis of scents. Secondly, concerning consumer preference, datasets can identify trends based on scents and build personylised recommendations systems, similar to what is done in this project. Lastly, datatsets are organised units which aid brands for marketing and categorising fragance caracter and their position in the market. Overall, it is safe to say that datasets play an essential role in the development of this project due to its part in the perfume industry."
   ]
  },
  {
   "cell_type": "markdown",
   "metadata": {},
   "source": [
    "***Usage in the project :***\n",
    "Specifically in this project, four datasets were used, each with its own purpose, although some were more useful than others. They are wielded to power the recommendation system as well as the chemical analysis elements of this project. As can be imagined, datasets are the base of this project. "
   ]
  },
  {
   "cell_type": "code",
   "execution_count": 31,
   "metadata": {},
   "outputs": [
    {
     "name": "stdout",
     "output_type": "stream",
     "text": [
      "Resolved absolute path: c:\\Users\\marie\\git\\chooseyourperfume\\data\\datasets\\Multi-Labelled_Smiles_Odors_dataset.csv\n",
      "Exists: True\n"
     ]
    }
   ],
   "source": [
    "test_path = os.path.abspath(os.path.join(\"..\", \"data\", \"datasets\", \"Multi-Labelled_Smiles_Odors_dataset.csv\"))\n",
    "\n",
    "print(\"Resolved absolute path:\", test_path)\n",
    "print(\"Exists:\", os.path.exists(test_path))"
   ]
  },
  {
   "cell_type": "code",
   "execution_count": 36,
   "metadata": {},
   "outputs": [
    {
     "data": {
      "text/plain": [
       "<module 'dataset' from 'c:\\\\Users\\\\marie\\\\git\\\\chooseyourperfume\\\\src\\\\chooseyourperfume\\\\dataset.py'>"
      ]
     },
     "execution_count": 36,
     "metadata": {},
     "output_type": "execute_result"
    }
   ],
   "source": [
    "import importlib\n",
    "import dataset  # This assumes you've already imported it\n",
    "\n",
    "importlib.reload(dataset)"
   ]
  },
  {
   "cell_type": "markdown",
   "metadata": {},
   "source": [
    "**Description of the datasets**\n",
    "\n",
    "- final_perfume_data: this dataset contains a commercial description of the perfumes that are recommanded, including scent description and image. It's purpose in the project is to extract scent-related keywords from its description to match with the users choices inputs which then allows for the scents to be linked to the actually notes via NLP (ask what it means)\n",
    "- fra_cleaned: it contains a user-readable description of the perfumes, and it is used in this project to add realism and natural language descriptors to the recommandations\n",
    "- fra_perfumes: this dataset is more structured, and includes information like the image or the brand of the perfumes. It is thanks to this dataset that the recommendations are displayed accompanied by their image.\n",
    "- multi-labelled_smiles_odors: this dataset is probably the most important chemically, as it includes the SMILEs format of the molecules and their corresponding scents. As can be guessed, it is used here for the structure analysis of the scents."
   ]
  },
  {
   "cell_type": "markdown",
   "metadata": {},
   "source": [
    "**2.2 Example usage**"
   ]
  },
  {
   "cell_type": "markdown",
   "metadata": {},
   "source": [
    "To demonstrate the utility of datasets and how they are structured, please execute the following cell:"
   ]
  },
  {
   "cell_type": "code",
   "execution_count": 39,
   "metadata": {},
   "outputs": [
    {
     "name": "stdout",
     "output_type": "stream",
     "text": [
      "✅ Imports successful!\n",
      "✅ Loaded Molecule Dataset (4983 rows)\n",
      "✅ Loaded Perfume Descriptions (2191 rows)\n",
      "✅ Loaded Fragrantica Data (24063 rows)\n",
      "✅ Loaded Extended Perfume Set (70103 rows)\n"
     ]
    },
    {
     "data": {
      "text/html": [
       "<div>\n",
       "<style scoped>\n",
       "    .dataframe tbody tr th:only-of-type {\n",
       "        vertical-align: middle;\n",
       "    }\n",
       "\n",
       "    .dataframe tbody tr th {\n",
       "        vertical-align: top;\n",
       "    }\n",
       "\n",
       "    .dataframe thead th {\n",
       "        text-align: right;\n",
       "    }\n",
       "</style>\n",
       "<table border=\"1\" class=\"dataframe\">\n",
       "  <thead>\n",
       "    <tr style=\"text-align: right;\">\n",
       "      <th></th>\n",
       "      <th>nonStereoSMILES</th>\n",
       "      <th>descriptors</th>\n",
       "      <th>alcoholic</th>\n",
       "      <th>aldehydic</th>\n",
       "      <th>alliaceous</th>\n",
       "      <th>almond</th>\n",
       "      <th>amber</th>\n",
       "      <th>animal</th>\n",
       "      <th>anisic</th>\n",
       "      <th>apple</th>\n",
       "      <th>...</th>\n",
       "      <th>tropical</th>\n",
       "      <th>vanilla</th>\n",
       "      <th>vegetable</th>\n",
       "      <th>vetiver</th>\n",
       "      <th>violet</th>\n",
       "      <th>warm</th>\n",
       "      <th>waxy</th>\n",
       "      <th>weedy</th>\n",
       "      <th>winey</th>\n",
       "      <th>woody</th>\n",
       "    </tr>\n",
       "  </thead>\n",
       "  <tbody>\n",
       "    <tr>\n",
       "      <th>0</th>\n",
       "      <td>CC(O)CN</td>\n",
       "      <td>fishy</td>\n",
       "      <td>0</td>\n",
       "      <td>0</td>\n",
       "      <td>0</td>\n",
       "      <td>0</td>\n",
       "      <td>0</td>\n",
       "      <td>0</td>\n",
       "      <td>0</td>\n",
       "      <td>0</td>\n",
       "      <td>...</td>\n",
       "      <td>0</td>\n",
       "      <td>0</td>\n",
       "      <td>0</td>\n",
       "      <td>0</td>\n",
       "      <td>0</td>\n",
       "      <td>0</td>\n",
       "      <td>0</td>\n",
       "      <td>0</td>\n",
       "      <td>0</td>\n",
       "      <td>0</td>\n",
       "    </tr>\n",
       "    <tr>\n",
       "      <th>1</th>\n",
       "      <td>CCC(=O)C(=O)O</td>\n",
       "      <td>fatty;lactonic;sweet;caramellic;creamy</td>\n",
       "      <td>0</td>\n",
       "      <td>0</td>\n",
       "      <td>0</td>\n",
       "      <td>0</td>\n",
       "      <td>0</td>\n",
       "      <td>0</td>\n",
       "      <td>0</td>\n",
       "      <td>0</td>\n",
       "      <td>...</td>\n",
       "      <td>0</td>\n",
       "      <td>0</td>\n",
       "      <td>0</td>\n",
       "      <td>0</td>\n",
       "      <td>0</td>\n",
       "      <td>0</td>\n",
       "      <td>0</td>\n",
       "      <td>0</td>\n",
       "      <td>0</td>\n",
       "      <td>0</td>\n",
       "    </tr>\n",
       "    <tr>\n",
       "      <th>2</th>\n",
       "      <td>O=C(O)CCc1ccccc1</td>\n",
       "      <td>rose;floral;fatty;sweet;musk;cinnamon;balsamic</td>\n",
       "      <td>0</td>\n",
       "      <td>0</td>\n",
       "      <td>0</td>\n",
       "      <td>0</td>\n",
       "      <td>0</td>\n",
       "      <td>0</td>\n",
       "      <td>0</td>\n",
       "      <td>0</td>\n",
       "      <td>...</td>\n",
       "      <td>0</td>\n",
       "      <td>0</td>\n",
       "      <td>0</td>\n",
       "      <td>0</td>\n",
       "      <td>0</td>\n",
       "      <td>0</td>\n",
       "      <td>0</td>\n",
       "      <td>0</td>\n",
       "      <td>0</td>\n",
       "      <td>0</td>\n",
       "    </tr>\n",
       "  </tbody>\n",
       "</table>\n",
       "<p>3 rows × 140 columns</p>\n",
       "</div>"
      ],
      "text/plain": [
       "    nonStereoSMILES                                     descriptors  \\\n",
       "0           CC(O)CN                                           fishy   \n",
       "1     CCC(=O)C(=O)O          fatty;lactonic;sweet;caramellic;creamy   \n",
       "2  O=C(O)CCc1ccccc1  rose;floral;fatty;sweet;musk;cinnamon;balsamic   \n",
       "\n",
       "   alcoholic  aldehydic  alliaceous  almond  amber  animal  anisic  apple  \\\n",
       "0          0          0           0       0      0       0       0      0   \n",
       "1          0          0           0       0      0       0       0      0   \n",
       "2          0          0           0       0      0       0       0      0   \n",
       "\n",
       "   ...  tropical  vanilla  vegetable  vetiver  violet  warm  waxy  weedy  \\\n",
       "0  ...         0        0          0        0       0     0     0      0   \n",
       "1  ...         0        0          0        0       0     0     0      0   \n",
       "2  ...         0        0          0        0       0     0     0      0   \n",
       "\n",
       "   winey  woody  \n",
       "0      0      0  \n",
       "1      0      0  \n",
       "2      0      0  \n",
       "\n",
       "[3 rows x 140 columns]"
      ]
     },
     "metadata": {},
     "output_type": "display_data"
    },
    {
     "data": {
      "text/html": [
       "<div>\n",
       "<style scoped>\n",
       "    .dataframe tbody tr th:only-of-type {\n",
       "        vertical-align: middle;\n",
       "    }\n",
       "\n",
       "    .dataframe tbody tr th {\n",
       "        vertical-align: top;\n",
       "    }\n",
       "\n",
       "    .dataframe thead th {\n",
       "        text-align: right;\n",
       "    }\n",
       "</style>\n",
       "<table border=\"1\" class=\"dataframe\">\n",
       "  <thead>\n",
       "    <tr style=\"text-align: right;\">\n",
       "      <th></th>\n",
       "      <th>Name</th>\n",
       "      <th>Description</th>\n",
       "    </tr>\n",
       "  </thead>\n",
       "  <tbody>\n",
       "    <tr>\n",
       "      <th>0</th>\n",
       "      <td>Tihota Eau de Parfum</td>\n",
       "      <td>Rapa Nui for sugar, Tihota is, quite simply, ...</td>\n",
       "    </tr>\n",
       "    <tr>\n",
       "      <th>1</th>\n",
       "      <td>Sola Parfum</td>\n",
       "      <td>A tribute to the expanse of space extending f...</td>\n",
       "    </tr>\n",
       "    <tr>\n",
       "      <th>2</th>\n",
       "      <td>Kagiroi Parfum</td>\n",
       "      <td>An aromatic ode to the ancient beauty of Japa...</td>\n",
       "    </tr>\n",
       "  </tbody>\n",
       "</table>\n",
       "</div>"
      ],
      "text/plain": [
       "                   Name                                        Description\n",
       "0  Tihota Eau de Parfum   Rapa Nui for sugar, Tihota is, quite simply, ...\n",
       "1           Sola Parfum   A tribute to the expanse of space extending f...\n",
       "2        Kagiroi Parfum   An aromatic ode to the ancient beauty of Japa..."
      ]
     },
     "metadata": {},
     "output_type": "display_data"
    },
    {
     "data": {
      "text/html": [
       "<div>\n",
       "<style scoped>\n",
       "    .dataframe tbody tr th:only-of-type {\n",
       "        vertical-align: middle;\n",
       "    }\n",
       "\n",
       "    .dataframe tbody tr th {\n",
       "        vertical-align: top;\n",
       "    }\n",
       "\n",
       "    .dataframe thead th {\n",
       "        text-align: right;\n",
       "    }\n",
       "</style>\n",
       "<table border=\"1\" class=\"dataframe\">\n",
       "  <thead>\n",
       "    <tr style=\"text-align: right;\">\n",
       "      <th></th>\n",
       "      <th>url</th>\n",
       "      <th>Perfume</th>\n",
       "      <th>Brand</th>\n",
       "      <th>Country</th>\n",
       "      <th>Gender</th>\n",
       "      <th>Rating Value</th>\n",
       "      <th>Rating Count</th>\n",
       "      <th>Year</th>\n",
       "      <th>Top</th>\n",
       "      <th>Middle</th>\n",
       "      <th>Base</th>\n",
       "      <th>Perfumer1</th>\n",
       "      <th>Perfumer2</th>\n",
       "      <th>mainaccord1</th>\n",
       "      <th>mainaccord2</th>\n",
       "      <th>mainaccord3</th>\n",
       "      <th>mainaccord4</th>\n",
       "      <th>mainaccord5</th>\n",
       "    </tr>\n",
       "  </thead>\n",
       "  <tbody>\n",
       "    <tr>\n",
       "      <th>0</th>\n",
       "      <td>https://www.fragrantica.com/perfume/xerjoff/ac...</td>\n",
       "      <td>accento-overdose-pride-edition</td>\n",
       "      <td>xerjoff</td>\n",
       "      <td>Italy</td>\n",
       "      <td>unisex</td>\n",
       "      <td>1,42</td>\n",
       "      <td>201</td>\n",
       "      <td>2022.0</td>\n",
       "      <td>fruity notes, aldehydes, green notes</td>\n",
       "      <td>bulgarian rose, egyptian jasmine, lily-of-the-...</td>\n",
       "      <td>eucalyptus, pine</td>\n",
       "      <td>unknown</td>\n",
       "      <td>NaN</td>\n",
       "      <td>rose</td>\n",
       "      <td>woody</td>\n",
       "      <td>fruity</td>\n",
       "      <td>aromatic</td>\n",
       "      <td>floral</td>\n",
       "    </tr>\n",
       "    <tr>\n",
       "      <th>1</th>\n",
       "      <td>https://www.fragrantica.com/perfume/jean-paul-...</td>\n",
       "      <td>classique-pride-2024</td>\n",
       "      <td>jean-paul-gaultier</td>\n",
       "      <td>France</td>\n",
       "      <td>women</td>\n",
       "      <td>1,86</td>\n",
       "      <td>70</td>\n",
       "      <td>2024.0</td>\n",
       "      <td>yuzu, citruses</td>\n",
       "      <td>orange blossom, neroli</td>\n",
       "      <td>musk, blonde woods</td>\n",
       "      <td>unknown</td>\n",
       "      <td>NaN</td>\n",
       "      <td>citrus</td>\n",
       "      <td>white floral</td>\n",
       "      <td>sweet</td>\n",
       "      <td>fresh</td>\n",
       "      <td>musky</td>\n",
       "    </tr>\n",
       "    <tr>\n",
       "      <th>2</th>\n",
       "      <td>https://www.fragrantica.com/perfume/jean-paul-...</td>\n",
       "      <td>classique-pride-2023</td>\n",
       "      <td>jean-paul-gaultier</td>\n",
       "      <td>France</td>\n",
       "      <td>unisex</td>\n",
       "      <td>1,91</td>\n",
       "      <td>285</td>\n",
       "      <td>2023.0</td>\n",
       "      <td>blood orange, yuzu</td>\n",
       "      <td>neroli, orange blossom</td>\n",
       "      <td>musk, white woods</td>\n",
       "      <td>natalie gracia-cetto</td>\n",
       "      <td>quentin bisch</td>\n",
       "      <td>citrus</td>\n",
       "      <td>white floral</td>\n",
       "      <td>sweet</td>\n",
       "      <td>fresh spicy</td>\n",
       "      <td>musky</td>\n",
       "    </tr>\n",
       "  </tbody>\n",
       "</table>\n",
       "</div>"
      ],
      "text/plain": [
       "                                                 url  \\\n",
       "0  https://www.fragrantica.com/perfume/xerjoff/ac...   \n",
       "1  https://www.fragrantica.com/perfume/jean-paul-...   \n",
       "2  https://www.fragrantica.com/perfume/jean-paul-...   \n",
       "\n",
       "                          Perfume               Brand Country  Gender  \\\n",
       "0  accento-overdose-pride-edition             xerjoff   Italy  unisex   \n",
       "1            classique-pride-2024  jean-paul-gaultier  France   women   \n",
       "2            classique-pride-2023  jean-paul-gaultier  France  unisex   \n",
       "\n",
       "  Rating Value  Rating Count    Year                                   Top  \\\n",
       "0         1,42           201  2022.0  fruity notes, aldehydes, green notes   \n",
       "1         1,86            70  2024.0                        yuzu, citruses   \n",
       "2         1,91           285  2023.0                    blood orange, yuzu   \n",
       "\n",
       "                                              Middle                Base  \\\n",
       "0  bulgarian rose, egyptian jasmine, lily-of-the-...    eucalyptus, pine   \n",
       "1                             orange blossom, neroli  musk, blonde woods   \n",
       "2                             neroli, orange blossom   musk, white woods   \n",
       "\n",
       "              Perfumer1      Perfumer2 mainaccord1   mainaccord2 mainaccord3  \\\n",
       "0               unknown            NaN        rose         woody      fruity   \n",
       "1               unknown            NaN      citrus  white floral       sweet   \n",
       "2  natalie gracia-cetto  quentin bisch      citrus  white floral       sweet   \n",
       "\n",
       "   mainaccord4 mainaccord5  \n",
       "0     aromatic      floral  \n",
       "1        fresh       musky  \n",
       "2  fresh spicy       musky  "
      ]
     },
     "metadata": {},
     "output_type": "display_data"
    },
    {
     "data": {
      "text/html": [
       "<div>\n",
       "<style scoped>\n",
       "    .dataframe tbody tr th:only-of-type {\n",
       "        vertical-align: middle;\n",
       "    }\n",
       "\n",
       "    .dataframe tbody tr th {\n",
       "        vertical-align: top;\n",
       "    }\n",
       "\n",
       "    .dataframe thead th {\n",
       "        text-align: right;\n",
       "    }\n",
       "</style>\n",
       "<table border=\"1\" class=\"dataframe\">\n",
       "  <thead>\n",
       "    <tr style=\"text-align: right;\">\n",
       "      <th></th>\n",
       "      <th>Name</th>\n",
       "      <th>Gender</th>\n",
       "      <th>Main Accords</th>\n",
       "    </tr>\n",
       "  </thead>\n",
       "  <tbody>\n",
       "    <tr>\n",
       "      <th>0</th>\n",
       "      <td>9am Afnanfor women</td>\n",
       "      <td>for women</td>\n",
       "      <td>['citrus', 'musky', 'woody', 'aromatic', 'warm...</td>\n",
       "    </tr>\n",
       "    <tr>\n",
       "      <th>1</th>\n",
       "      <td>9am Dive Afnanfor women and men</td>\n",
       "      <td>for women and men</td>\n",
       "      <td>['fruity', 'woody', 'green', 'warm spicy', 'ar...</td>\n",
       "    </tr>\n",
       "    <tr>\n",
       "      <th>2</th>\n",
       "      <td>9am pour Femme Afnanfor women</td>\n",
       "      <td>for women</td>\n",
       "      <td>['fruity', 'musky', 'amber', 'citrus', 'powder...</td>\n",
       "    </tr>\n",
       "  </tbody>\n",
       "</table>\n",
       "</div>"
      ],
      "text/plain": [
       "                              Name             Gender  \\\n",
       "0               9am Afnanfor women          for women   \n",
       "1  9am Dive Afnanfor women and men  for women and men   \n",
       "2    9am pour Femme Afnanfor women          for women   \n",
       "\n",
       "                                        Main Accords  \n",
       "0  ['citrus', 'musky', 'woody', 'aromatic', 'warm...  \n",
       "1  ['fruity', 'woody', 'green', 'warm spicy', 'ar...  \n",
       "2  ['fruity', 'musky', 'amber', 'citrus', 'powder...  "
      ]
     },
     "metadata": {},
     "output_type": "display_data"
    }
   ],
   "source": [
    "try:\n",
    "    from dataset import (load_csv, load_smiles_odors, load_perfume_descriptions, load_fragrantica_data, load_extended_perfume_set)\n",
    "    print(\"✅ Imports successful!\")\n",
    "except ImportError as e:\n",
    "    print(f\"❌ Import failed: {e}\")\n",
    "\n",
    "# 🧪 Helper function to load dataset safely\n",
    "def try_load(name, loader_func):\n",
    "    try:\n",
    "        df = loader_func()\n",
    "        print(f\"✅ Loaded {name} ({len(df)} rows)\")\n",
    "        return df\n",
    "    except FileNotFoundError as e:\n",
    "        print(f\"⚠️ Could not load {name}: {e}\")\n",
    "        return None\n",
    "\n",
    "# 🔁 Load each dataset\n",
    "df_smiles = try_load(\"Molecule Dataset\", load_smiles_odors)\n",
    "df_desc   = try_load(\"Perfume Descriptions\", load_perfume_descriptions)\n",
    "df_frag   = try_load(\"Fragrantica Data\", load_fragrantica_data)\n",
    "df_extended = try_load(\"Extended Perfume Set\", load_extended_perfume_set)\n",
    "\n",
    "# 📊 Display first few rows of each (if loaded)\n",
    "if df_smiles is not None:\n",
    "    display(df_smiles.head(3))\n",
    "\n",
    "if df_desc is not None and 'Name' in df_desc.columns and 'Description' in df_desc.columns:\n",
    "    display(df_desc[['Name', 'Description']].head(3))\n",
    "\n",
    "if df_frag is not None:\n",
    "    display(df_frag.head(3))\n",
    "\n",
    "if df_extended is not None and 'Name' in df_extended.columns:\n",
    "    display(df_extended[['Name', 'Gender', 'Main Accords']].head(3))"
   ]
  },
  {
   "cell_type": "markdown",
   "metadata": {},
   "source": [
    "If the download was successful, the first three lines of the four used datasets should appear in an organised table, according to the informations provided by the unit. Here, it can clearly be seen that the structure of the datasets are what makes them necessary for facilitating the manipulation of its elements. Although only a small fragment of the datasets are represented above, this table conveys ...."
   ]
  },
  {
   "cell_type": "markdown",
   "metadata": {},
   "source": [
    "**2.3 conclusion**"
   ]
  },
  {
   "cell_type": "markdown",
   "metadata": {},
   "source": [
    "In the snippet of code shown above, it can be seen that downloading a dataset and making it usable for coding the main functions of the project is not an easy task. It is the base of all the different options included in the interface as well as the chemical study of the scents portrayed in the project. Therefore, a longer code, that is written in the least complex manner is needed to be able to use the datasets according to the wishes of the creators. However hard this may be, it is necessary thanks to its structured supply of information and easy manipulation."
   ]
  },
  {
   "cell_type": "markdown",
   "metadata": {},
   "source": [
    "### 3. RECOMMENDATIONS AND CHEMICAL ANALYSIS IN THE INTERFACE"
   ]
  },
  {
   "cell_type": "markdown",
   "metadata": {},
   "source": [
    "**3.1 Description**"
   ]
  },
  {
   "cell_type": "markdown",
   "metadata": {},
   "source": [
    "***General note:*** In this section, we will dive deep into the core of the project by studying and explaning the main functions leading to the creation of the interface and the recommendation system, as well as the chemical structures of the scents and how they are presented.\n",
    "\n",
    "***Chemical link:*** Chemically, the structure of the molecule has a huge impact on its properties. Indeed, even if two molecules contain exactly the same atoms in the same amounts, if their structure differ, they can have completely opposite features. Therefore, to predict the behaviour of certain molecules, it is essential to understand the nature of chemical bonds but also the arragement of the atoms within its structure. Without going in so much detail, here are two simple examples to help clarify the effect of the arrangement of atoms on the properties of a molecule. GO CHATGPT FOR ADDITIONNAL INFO"
   ]
  },
  {
   "cell_type": "markdown",
   "metadata": {},
   "source": [
    "***Examples:*** These examples involves chiral molecules. A chiral molecule is a molecule which cannot be superposed on its mirror image, like your right and left hands.\n",
    "\n",
    "- Carvone:\n",
    "    - This first example is Carvone, commonly found in essential oils. Its (R)-Carvone structure is mostly foound in spearmint oil, thanks to its minty and cool smell.\n",
    "    - On the other hand, its mirror image (S)-Carvone Caraway seeds, and is defined by its spicy and earthy smell.\n",
    "- Thalidomide:\n",
    "    - The first enantiomer, (R)-Thalidomide, is a sedative and helps with morning sickness, one of the syptoms of being pregnant.\n",
    "    - Its mirror image however, (S)-Thalidomide, is extremely toxic and causes birth defect.\n",
    "\n",
    "As can be observed, a simple structure difference such as taking the mirror image impacts grandly the effect of the molecule, even though they have the same chemical formulas. It can nevertheless be observed in the examples that the enantiomers are still similar  in certain aspects, such as being related to pregnancy, or being used in essential oils."
   ]
  },
  {
   "cell_type": "markdown",
   "metadata": {},
   "source": [
    "***And in the Choose your perfume app?:*** Keeping this example in mind, there are also examples of the same molecule with the same structure being responsible for several scents, which is what can be observed in the chemical analysis included in the interface of the ***Choose Your Perfume*** app."
   ]
  },
  {
   "cell_type": "markdown",
   "metadata": {},
   "source": [
    "**3.2 Usage example**"
   ]
  },
  {
   "cell_type": "code",
   "execution_count": 42,
   "metadata": {},
   "outputs": [
    {
     "data": {
      "text/plain": [
       "<module 'logic_cyp' from 'c:\\\\Users\\\\marie\\\\git\\\\chooseyourperfume\\\\src\\\\chooseyourperfume\\\\logic_cyp.py'>"
      ]
     },
     "execution_count": 42,
     "metadata": {},
     "output_type": "execute_result"
    }
   ],
   "source": [
    "import importlib\n",
    "import logic_cyp\n",
    "\n",
    "importlib.reload(logic_cyp)"
   ]
  },
  {
   "cell_type": "markdown",
   "metadata": {},
   "source": [
    "***Usage example:*** To portray the above confirmation, here is a snippet of code which allows you to choose scents and their weight."
   ]
  },
  {
   "cell_type": "code",
   "execution_count": 51,
   "metadata": {},
   "outputs": [
    {
     "data": {
      "text/html": [
       "<div>\n",
       "<style scoped>\n",
       "    .dataframe tbody tr th:only-of-type {\n",
       "        vertical-align: middle;\n",
       "    }\n",
       "\n",
       "    .dataframe tbody tr th {\n",
       "        vertical-align: top;\n",
       "    }\n",
       "\n",
       "    .dataframe thead th {\n",
       "        text-align: right;\n",
       "    }\n",
       "</style>\n",
       "<table border=\"1\" class=\"dataframe\">\n",
       "  <thead>\n",
       "    <tr style=\"text-align: right;\">\n",
       "      <th></th>\n",
       "      <th>name</th>\n",
       "      <th>brand</th>\n",
       "      <th>score</th>\n",
       "      <th>description_x</th>\n",
       "    </tr>\n",
       "  </thead>\n",
       "  <tbody>\n",
       "    <tr>\n",
       "      <th>1713</th>\n",
       "      <td>lys 41 eau de parfum</td>\n",
       "      <td>Le Labo</td>\n",
       "      <td>3.2</td>\n",
       "      <td>A lavish, breathtaking, no-holds-barred big w...</td>\n",
       "    </tr>\n",
       "    <tr>\n",
       "      <th>1234</th>\n",
       "      <td>sublimes essences musc perfume oil</td>\n",
       "      <td>Ex Nihilo</td>\n",
       "      <td>3.2</td>\n",
       "      <td>Les Sublimes Essences: a duo of exquisite per...</td>\n",
       "    </tr>\n",
       "  </tbody>\n",
       "</table>\n",
       "</div>"
      ],
      "text/plain": [
       "                                    name      brand  score  \\\n",
       "1713                lys 41 eau de parfum    Le Labo    3.2   \n",
       "1234  sublimes essences musc perfume oil  Ex Nihilo    3.2   \n",
       "\n",
       "                                          description_x  \n",
       "1713   A lavish, breathtaking, no-holds-barred big w...  \n",
       "1234   Les Sublimes Essences: a duo of exquisite per...  "
      ]
     },
     "metadata": {},
     "output_type": "display_data"
    }
   ],
   "source": [
    "perfume_to_scent_df = load_perfume_descriptions()\n",
    "perfume_df = load_extended_perfume_set()\n",
    "\n",
    "perfume_to_scent_df.columns = perfume_to_scent_df.columns.str.strip().str.lower()\n",
    "\n",
    "from logic_cyp import score_perfumes, enrich_with_scent_columns\n",
    "from dataset import scent_categories\n",
    "\n",
    "all_scent_notes = [note for notes in scent_categories.values() for note in notes]\n",
    "\n",
    "import warnings\n",
    "from pandas.errors import PerformanceWarning\n",
    "\n",
    "with warnings.catch_warnings():\n",
    "    warnings.simplefilter(\"ignore\", PerformanceWarning)\n",
    "    perfume_to_scent_df = enrich_with_scent_columns(perfume_to_scent_df, all_scent_notes, text_column='description')\n",
    "# Enrich scent columns\n",
    "#perfume_to_scent_df = enrich_with_scent_columns(perfume_to_scent_df, all_scent_notes, text_column='description')\n",
    "\n",
    "#all_scent_notes = [note for notes in scent_categories.values() for note in notes]\n",
    "\n",
    "# Enrich descriptions with binary scent indicators\n",
    "#perfume_to_scent_df = enrich_with_scent_columns(perfume_to_scent_df, all_scent_notes, text_column='description')\n",
    "\n",
    "# Define your selected notes and weights (simulate user input)\n",
    "selected_scents = ['vanilla', 'rose', 'musk']\n",
    "weights = {'vanilla': 1.5, 'rose': 1.0, 'musk': 0.7}\n",
    "\n",
    "import contextlib\n",
    "import io\n",
    "\n",
    "# Suppress prints from score_perfumes()\n",
    "with contextlib.redirect_stdout(io.StringIO()):\n",
    "    result_df = score_perfumes(selected_scents, perfume_to_scent_df, perfume_df, weights)\n",
    "\n",
    "# Show only the result\n",
    "display(result_df[['name', 'brand', 'score', 'description_x']].head(2))"
   ]
  },
  {
   "cell_type": "code",
   "execution_count": 54,
   "metadata": {},
   "outputs": [
    {
     "data": {
      "image/jpeg": "[encoded data removed]",
      "text/plain": [
       "<IPython.core.display.Image object>"
      ]
     },
     "metadata": {},
     "output_type": "display_data"
    },
    {
     "data": {
      "image/jpeg": "[encoded data removed]",
      "text/plain": [
       "<IPython.core.display.Image object>"
      ]
     },
     "metadata": {},
     "output_type": "display_data"
    }
   ],
   "source": [
    "from IPython.display import Image, display\n",
    "import requests\n",
    "from io import BytesIO\n",
    "\n",
    "# Loop over top 2 rows of the result\n",
    "for _, row in result_df.head(2).iterrows():\n",
    "    img_url = row.get('image url') or row.get('image_url')\n",
    "    if isinstance(img_url, str) and img_url.strip():\n",
    "        response = requests.get(img_url.strip())\n",
    "        if response.status_code == 200:\n",
    "            img_bytes = response.content  # Extract raw bytes\n",
    "            display(Image(data=img_bytes))\n",
    "        else:\n",
    "            print(f\"⚠️ Image failed to load for {row.get('name')}\")\n",
    "    else:\n",
    "        print(f\"🚫 No image available for {row.get('name')}\")"
   ]
  },
  {
   "cell_type": "code",
   "execution_count": 56,
   "metadata": {},
   "outputs": [
    {
     "name": "stdout",
     "output_type": "stream",
     "text": [
      "\n",
      "🔬 Molecules for scent: 'vanilla'\n"
     ]
    },
    {
     "data": {
      "image/jpeg": "[encoded data removed]",
      "image/png": "[encoded data removed]",
      "text/plain": [
       "<PIL.PngImagePlugin.PngImageFile image mode=RGB size=200x200>"
      ]
     },
     "metadata": {},
     "output_type": "display_data"
    },
    {
     "data": {
      "image/jpeg": "[encoded data removed]",
      "image/png": "[encoded data removed]",
      "text/plain": [
       "<PIL.PngImagePlugin.PngImageFile image mode=RGB size=200x200>"
      ]
     },
     "metadata": {},
     "output_type": "display_data"
    },
    {
     "data": {
      "image/jpeg": "[encoded data removed]",
      "image/png": "[encoded data removed]",
      "text/plain": [
       "<PIL.PngImagePlugin.PngImageFile image mode=RGB size=200x200>"
      ]
     },
     "metadata": {},
     "output_type": "display_data"
    },
    {
     "name": "stdout",
     "output_type": "stream",
     "text": [
      "\n",
      "🔬 Molecules for scent: 'rose'\n"
     ]
    },
    {
     "data": {
      "image/jpeg": "[encoded data removed]",
      "image/png": "[encoded data removed]",
      "text/plain": [
       "<PIL.PngImagePlugin.PngImageFile image mode=RGB size=200x200>"
      ]
     },
     "metadata": {},
     "output_type": "display_data"
    },
    {
     "data": {
      "image/jpeg": "[encoded data removed]",
      "image/png": "[encoded data removed]",
      "text/plain": [
       "<PIL.PngImagePlugin.PngImageFile image mode=RGB size=200x200>"
      ]
     },
     "metadata": {},
     "output_type": "display_data"
    },
    {
     "data": {
      "image/jpeg": "[encoded data removed]",
      "image/png": "[encoded data removed]",
      "text/plain": [
       "<PIL.PngImagePlugin.PngImageFile image mode=RGB size=200x200>"
      ]
     },
     "metadata": {},
     "output_type": "display_data"
    },
    {
     "name": "stdout",
     "output_type": "stream",
     "text": [
      "\n",
      "🔬 Molecules for scent: 'musk'\n"
     ]
    },
    {
     "data": {
      "image/jpeg": "[encoded data removed]",
      "image/png": "[encoded data removed]",
      "text/plain": [
       "<PIL.PngImagePlugin.PngImageFile image mode=RGB size=200x200>"
      ]
     },
     "metadata": {},
     "output_type": "display_data"
    },
    {
     "data": {
      "image/jpeg": "[encoded data removed]",
      "image/png": "[encoded data removed]",
      "text/plain": [
       "<PIL.PngImagePlugin.PngImageFile image mode=RGB size=200x200>"
      ]
     },
     "metadata": {},
     "output_type": "display_data"
    },
    {
     "data": {
      "image/jpeg": "[encoded data removed]",
      "image/png": "[encoded data removed]",
      "text/plain": [
       "<PIL.PngImagePlugin.PngImageFile image mode=RGB size=200x200>"
      ]
     },
     "metadata": {},
     "output_type": "display_data"
    }
   ],
   "source": [
    "from logic_cyp import get_molecules_for_scents, render_molecule\n",
    "from dataset import load_smiles_odors\n",
    "from IPython.display import display\n",
    "\n",
    "# Load molecule dataset (if not already)\n",
    "df_smiles = load_smiles_odors()\n",
    "df_smiles.columns = df_smiles.columns.str.strip().str.lower()\n",
    "\n",
    "# Get molecules for selected scents\n",
    "df_mols = get_molecules_for_scents(selected_scents, df_smiles)\n",
    "\n",
    "# Display up to 3 molecules per scent\n",
    "for scent in selected_scents:\n",
    "    print(f\"\\n🔬 Molecules for scent: '{scent}'\")\n",
    "    try:\n",
    "        smiles_list = df_mols[df_mols[scent] == 1]['nonstereosmiles'].dropna().unique()[:3]\n",
    "        if len(smiles_list) == 0:\n",
    "            print(\"🚫 No molecules found.\")\n",
    "        else:\n",
    "            for smi in smiles_list:\n",
    "                display(render_molecule(smi))\n",
    "    except Exception as e:\n",
    "        print(f\"⚠️ Error for scent '{scent}': {e}\")"
   ]
  }
 ],
 "metadata": {
  "kernelspec": {
   "display_name": "cyp",
   "language": "python",
   "name": "python3"
  },
  "language_info": {
   "codemirror_mode": {
    "name": "ipython",
    "version": 3
   },
   "file_extension": ".py",
   "mimetype": "text/x-python",
   "name": "python",
   "nbconvert_exporter": "python",
   "pygments_lexer": "ipython3",
   "version": "3.10.16"
  }
 },
 "nbformat": 4,
 "nbformat_minor": 2
}
