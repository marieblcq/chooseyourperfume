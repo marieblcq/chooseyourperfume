{
 "cells": [
  {
   "cell_type": "markdown",
   "metadata": {},
   "source": [
    "## Welcome to ***Choose Your Perfume*** ! 🌸"
   ]
  },
  {
   "cell_type": "markdown",
   "metadata": {},
   "source": [
    "Welcome to ***Choose Your perfume***🌸, a python🐍 based interface which does more than just giving great perfume recommendations. Behind this sweet scented facade actually lies detailled chemical🧪 and programming🖥️ work, carefully thought through by the creators of this project. "
   ]
  },
  {
   "cell_type": "markdown",
   "metadata": {},
   "source": [
    "The perfume industry is heavily connected to chemistry, between understanding the art of blending scents according to their chemical properties and the ability to synthesis molecules according to growing consumer demand. The exponential development of synthesised molecules started no earlier than the mid 19th century, when the technological advancement, although limited, permitted the synthesis of popular and wildly used scents such as vanillin, coumarin, aliphatic aldehydes and hydroxycitronellal⚗️. Later technological discoveries allowed the synthesis of more complex odors like oakmoss, vetiver and patchouli. Nowadays, our limitations have been significantly decreased and the extent of synthesised aroma is endless, as can be noticed in our ***Choose Your Perfume***🌸 app."
   ]
  },
  {
   "cell_type": "markdown",
   "metadata": {},
   "source": [
    "Although detailling the chemical process behind the synthesis of scents and blending of fragrances is not the goal⚽ of our project, we are able to offer the users of our app a chemical insight on their favoured scents by providing the structures of the chosen molecules, and complementing informations on the latter."
   ]
  },
  {
   "cell_type": "markdown",
   "metadata": {},
   "source": [
    "Going beyond all that is provided in the ***Choose your perfume***🌸 app interface, functions were created within this project to elaborate the understanding of the chemical aspects of scents."
   ]
  },
  {
   "cell_type": "markdown",
   "metadata": {},
   "source": [
    "To fully understand the depth of the chemical🧪 analysis provided with the ***Choose Your Perfume***🌸 project, this Jupyter notebook was created📝!"
   ]
  },
  {
   "cell_type": "markdown",
   "metadata": {},
   "source": [
    "### 1. Initialization"
   ]
  },
  {
   "cell_type": "markdown",
   "metadata": {},
   "source": [
    "**About this notebook**: A Jupyter Notebook is a shareable document that combines computer code, plain descriptive language, data, 3D models, graphs and more. It provides a interactive environment where code can be explained and data can be explored and visualised. This particular Jupyter notebook will walk you through the development of our project, with snippets of code to help you understand the functionning of our app, as well as visual tools to illustrate the explanations."
   ]
  },
  {
   "cell_type": "markdown",
   "metadata": {},
   "source": [
    "**How to use this notebook**: It's not hard! Just navigate through the different cells, read the explanations provided and run the codes. Explore the different results obtained with diverse entries and experiment with the code!"
   ]
  },
  {
   "cell_type": "markdown",
   "metadata": {},
   "source": [
    "The first step is to import all the dependencies and functions which will ensure that the code runs well here in this notebook. All that is needed is to run the following cell!"
   ]
  },
  {
   "cell_type": "code",
   "execution_count": null,
   "metadata": {},
   "outputs": [],
   "source": [
    "import os\n",
    "import sys\n",
    "\n",
    "current_dir = os.getcwd()\n",
    "target_dir_relative = os.path.join('..', 'src', 'chooseyourperfume')\n",
    "target_dir_absolute = os.path.abspath(os.path.join(current_dir, target_dir_relative))\n",
    "sys.path.append(target_dir_absolute)\n",
    "\n",
    "#from here is chatgpt that suggested but its not necessary\n",
    "if target_dir_absolute not in sys.path:\n",
    "    sys.path.append(target_dir_absolute)\n",
    "\n",
    "# Confirm imports work\n",
    "try:\n",
    "    from logic_cyp import load_data, ask_preferences, score_perfumes\n",
    "    from dataset import scent_categories\n",
    "    print(\"✅ Imports successful!\")\n",
    "except ImportError as e:\n",
    "    print(f\"⚠️ Import failed: {e}\")"
   ]
  },
  {
   "cell_type": "markdown",
   "metadata": {},
   "source": [
    "***To clarify*** : let's go over each line of this cell:\n",
    "*import os*: os (operating system) is a standard python module which is essential to import in this notebook. It is necessary for interacting with the operating system, like for example working with the file paths.\n",
    "*import sys*: sys (system) is also a standard python module which is necessary for this jupyter notebook. It allows the manipulation of the python environment like the import path (sys.path).\n",
    "*current_dir*: it simply gets the folder where the script is running (the current working directory).\n",
    "*target_dir_relative*: this line builds a path from the notebook to the target directory, where the main functions will be imported from.\n",
    "    \"...\" → goes back one directory, to where all directories containing functions are situated\n",
    "    \"src\" and \"chooseyourperfume\" → they are simply the directories within which the modules containing the functions are.\n",
    "*target_dir_absolute*: This simply converts the relative path into an absolute one, meaning it rewrites the changed path from the root, to obtain to full path.\n",
    "*sys.path.append*: allows the importation of modules directly from the chooseyourperfume package inside the src folder even if its not in an installed package, this limits problems within the jupyter notebook while running the codes."
   ]
  },
  {
   "cell_type": "markdown",
   "metadata": {},
   "source": [
    "**Let's get started !**"
   ]
  },
  {
   "cell_type": "markdown",
   "metadata": {},
   "source": [
    "### 2. Datasets"
   ]
  },
  {
   "cell_type": "markdown",
   "metadata": {},
   "source": [
    "**2.1 Purpose**"
   ]
  },
  {
   "cell_type": "markdown",
   "metadata": {},
   "source": [
    "***General note :***\n",
    "Datasets are essential in the computing world. They are units which collect related sets of information and regroups them to allow their manipulation by the computer. They are often presented in a table, with each column representing a different set of information. Although, as mentionned, they regroup different sets of informations, they often come from a single source and are meant for one project."
   ]
  },
  {
   "cell_type": "markdown",
   "metadata": {},
   "source": [
    "***And for the perfume industry? :***\n",
    "The creation of datasets plays a major role in the evolution of computing skills and technology, and the perfume industry benefits a lot from it. Existing datasets play a critical role in this industry. Even though sensory and particularly olfactory processes are still essential, datasets have helped with the modernizing and enhancing of the procedures of perfume creation in several ways. Firstly, regarding perfume formulation, they allow the analysis of ingredient combination because of the understanding of the structures responsible for a certain scent provided in the datasets. Furthermore, these structures help with predicting how a molecule will smell based on its structure, which is significant for synthetis of scents. Secondly, concerning consumer preference, datasets can identify trends based on scents and build personylised recommendations systems, similar to what is done in this project. Lastly, datatsets are organised units which aid brands for marketing and categorising fragance caracter and their position in the market. Overall, it is safe to say that datasets play an essential role in the development of this project due to its part in the perfume industry."
   ]
  },
  {
   "cell_type": "markdown",
   "metadata": {},
   "source": [
    "***Usage in the project :***\n",
    "Specifically in this project, four datasets were used, each with its own purpose, although some were more useful than others. They are wielded to power the recommendation system as well as the chemical analysis elements of this project. As can be imagined, datasets are the base of this project. "
   ]
  },
  {
   "cell_type": "markdown",
   "metadata": {},
   "source": [
    "**Description of the datasets**\n",
    "\n",
    "- final_perfume_data: this dataset contains a commercial description of the perfumes that are recommanded, including scent description and image. It's purpose in the project is to extract scent-related keywords from its description to match with the users choices inputs which then allows for the scents to be linked to the actually notes via NLP (ask what it means)\n",
    "- fra_cleaned: it contains a user-readable description of the perfumes, and it is used in this project to add realism and natural language descriptors to the recommandations\n",
    "- fra_perfumes: this dataset is more structured, and includes information like the image or the brand of the perfumes. It is thanks to this dataset that the recommendations are displayed accompanied by their image.\n",
    "- multi-labelled_smiles_odors: this dataset is probably the most important chemically, as it includes the SMILEs format of the molecules and their corresponding scents. As can be guessed, it is used here for the structure analysis of the scents."
   ]
  },
  {
   "cell_type": "markdown",
   "metadata": {},
   "source": [
    "**2.2 Example usage**"
   ]
  },
  {
   "cell_type": "markdown",
   "metadata": {},
   "source": []
  }
 ],
 "metadata": {
  "kernelspec": {
   "display_name": "cyp",
   "language": "python",
   "name": "python3"
  },
  "language_info": {
   "name": "python",
   "version": "3.10.16"
  }
 },
 "nbformat": 4,
 "nbformat_minor": 2
}
